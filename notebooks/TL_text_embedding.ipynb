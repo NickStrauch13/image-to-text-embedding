{
 "cells": [
  {
   "cell_type": "markdown",
   "metadata": {},
   "source": [
    "### Transfer Learning on A Pre-Trained Text Embedding Transformer"
   ]
  },
  {
   "cell_type": "code",
   "execution_count": 11,
   "metadata": {},
   "outputs": [],
   "source": [
    "from transformers import AutoTokenizer, AutoModel\n",
    "import torch\n",
    "from torch.utils.data import Dataset, DataLoader\n",
    "from torch import Tensor\n",
    "import torch.nn as nn\n",
    "import torch.nn.functional as F\n",
    "from PIL import Image"
   ]
  },
  {
   "cell_type": "code",
   "execution_count": 2,
   "metadata": {},
   "outputs": [],
   "source": [
    "MODEL_NAME = \"thenlper/gte-base\" # This model is fairly small and is #22 on MTEB leaderboard\n",
    "tokenizer = AutoTokenizer.from_pretrained(MODEL_NAME)\n",
    "model = AutoModel.from_pretrained(MODEL_NAME)"
   ]
  },
  {
   "cell_type": "code",
   "execution_count": 3,
   "metadata": {},
   "outputs": [],
   "source": [
    "class CustomTextEmbeddingModel(torch.nn.Module):\n",
    "    def __init__(self, original_model, output_dim):\n",
    "        super(CustomTextEmbeddingModel, self).__init__()\n",
    "        self.original_model = original_model\n",
    "        # 768 is the embedding dims for the original gte-base model. adding another layer on the end to project to the output dim\n",
    "        self.projection = torch.nn.Linear(768, output_dim)\n",
    "\n",
    "    def forward(self, input_ids, attention_mask=None):\n",
    "        # Original model output\n",
    "        outputs = self.original_model(input_ids=input_ids, attention_mask=attention_mask)\n",
    "        pooled_output = self._average_pool(outputs.last_hidden_state, attention_mask)\n",
    "        # Project to new output dim\n",
    "        projected_output = self.projection(pooled_output)\n",
    "        return projected_output\n",
    "    \n",
    "    # This function is from https://huggingface.co/thenlper/gte-base\n",
    "    def _average_pool(self, last_hidden_states: Tensor, attention_mask: Tensor) -> Tensor:\n",
    "        last_hidden = last_hidden_states.masked_fill(~attention_mask[..., None].bool(), 0.0)\n",
    "        return last_hidden.sum(dim=1) / attention_mask.sum(dim=1)[..., None]"
   ]
  },
  {
   "cell_type": "code",
   "execution_count": 4,
   "metadata": {},
   "outputs": [
    {
     "name": "stdout",
     "output_type": "stream",
     "text": [
      "tensor([[ 0.0287, -0.4859,  0.6201,  0.2807, -0.2046,  0.1002,  0.1410, -0.4414,\n",
      "         -0.1926, -0.2016],\n",
      "        [ 0.0223, -0.5507,  0.5782,  0.1744, -0.0751,  0.0625,  0.0791, -0.5710,\n",
      "         -0.2947, -0.0446]])\n"
     ]
    }
   ],
   "source": [
    "# A test to verify that the model is working. Outputs should just be meaningless tensors of size 10\n",
    "test_model = CustomTextEmbeddingModel(model, 10)\n",
    "\n",
    "# Tokenize test inputs\n",
    "test_inputs = [\"This is test sentence 1\", \"This is test sentence 2\"]\n",
    "batch_dict = tokenizer(test_inputs, max_length=512, padding=True, truncation=True, return_tensors='pt')\n",
    "\n",
    "# Pass the tokenized inputs through your custom model\n",
    "with torch.no_grad():\n",
    "    embeddings = test_model(batch_dict['input_ids'], batch_dict['attention_mask'])\n",
    "\n",
    "#print(batch_dict)\n",
    "print(embeddings)\n"
   ]
  },
  {
   "cell_type": "markdown",
   "metadata": {},
   "source": [
    "#### Freeze Pre-Trained Parameters"
   ]
  },
  {
   "cell_type": "code",
   "execution_count": 5,
   "metadata": {},
   "outputs": [],
   "source": [
    "def freeze_pretrained_weights(model: nn.Module):\n",
    "    '''\n",
    "    Freezes the pretrained weights for an instance of the CustomTextEmbeddingModel class\n",
    "    '''\n",
    "    for param in model.original_model.parameters():\n",
    "        param.requires_grad = False"
   ]
  },
  {
   "cell_type": "markdown",
   "metadata": {},
   "source": [
    "#### Setup a Dataset Class"
   ]
  },
  {
   "cell_type": "code",
   "execution_count": 6,
   "metadata": {},
   "outputs": [],
   "source": [
    "class TextDataset(Dataset):\n",
    "    def __init__(self, texts, labels, tokenizer):\n",
    "        self.texts = texts\n",
    "        self.labels = labels\n",
    "        self.tokenizer = tokenizer\n",
    "    \n",
    "    def __len__(self):\n",
    "        return len(self.texts)\n",
    "    \n",
    "    def __getitem__(self, idx):\n",
    "        encoded_text = self.tokenizer(self.texts[idx], return_tensors='pt', padding='max_length', truncation=True, max_length=512)\n",
    "        label = torch.tensor(self.labels[idx], dtype=torch.long)\n",
    "        return encoded_text, label\n"
   ]
  },
  {
   "cell_type": "code",
   "execution_count": 7,
   "metadata": {},
   "outputs": [],
   "source": [
    "# Example usage of the TextDataset class\n",
    "\n",
    "# Example text, labels, and tokenizer\n",
    "    # Image captions\n",
    "texts = [\"Caption for image 1\", \"Caption for image 2\", \"Caption for image 3\"]\n",
    "    # The labels are the image embeddings from the image embedding model.\n",
    "labels = [Tensor([1,2,3,4,5,6,7,8,9,0]), Tensor([1,2,3,4,5,6,7,8,9,0]), Tensor([1,2,3,4,5,6,7,8,9,0])]\n",
    "    # This is the tokenizer for our base pretrained text embedding model: gte-base\n",
    "tokenizer = AutoTokenizer.from_pretrained(MODEL_NAME)\n",
    "\n",
    "\n",
    "dataset = TextDataset(texts, labels, tokenizer)\n",
    "dataloader = DataLoader(dataset, batch_size=2, shuffle=True)"
   ]
  },
  {
   "cell_type": "markdown",
   "metadata": {},
   "source": [
    "## Extracting Embeddings from Pre-Trained ViT"
   ]
  },
  {
   "cell_type": "code",
   "execution_count": 9,
   "metadata": {},
   "outputs": [],
   "source": [
    "# Possible models\n",
    "# oschamp/vit-artworkclassifier        probably not this one... its finetuning seems to be somewhat poor\n",
    "# google/vit-base-patch16-224"
   ]
  },
  {
   "cell_type": "code",
   "execution_count": 22,
   "metadata": {},
   "outputs": [
    {
     "name": "stdout",
     "output_type": "stream",
     "text": [
      "Predicted class: book jacket, dust cover, dust jacket, dust wrapper\n"
     ]
    }
   ],
   "source": [
    "# Load the google ViT model\n",
    "from transformers import ViTImageProcessor, ViTForImageClassification\n",
    "\n",
    "processor = ViTImageProcessor.from_pretrained('google/vit-base-patch16-224')\n",
    "model = ViTForImageClassification.from_pretrained('google/vit-base-patch16-224')\n",
    "\n",
    "test_image = Image.open(\"../data/test_art.jpg\")\n",
    "\n",
    "inputs = processor(images=test_image, return_tensors=\"pt\")\n",
    "outputs = model(**inputs)\n",
    "logits = outputs.logits\n",
    "# model predicts one of the 1000 ImageNet classes\n",
    "predicted_class_idx = logits.argmax(-1).item()\n",
    "print(\"Predicted class:\", model.config.id2label[predicted_class_idx])"
   ]
  },
  {
   "cell_type": "code",
   "execution_count": 25,
   "metadata": {},
   "outputs": [
    {
     "name": "stdout",
     "output_type": "stream",
     "text": [
      "torch.Size([3, 768])\n"
     ]
    }
   ],
   "source": [
    "# Extract the embeddings from the model by removing the final classification layer\n",
    "model.classifier = nn.Identity()\n",
    "\n",
    "embedding = model(**inputs).logits\n",
    "\n",
    "print(embedding.shape)"
   ]
  },
  {
   "cell_type": "code",
   "execution_count": 26,
   "metadata": {},
   "outputs": [
    {
     "name": "stdout",
     "output_type": "stream",
     "text": [
      "torch.Size([3, 768])\n"
     ]
    }
   ],
   "source": [
    "# Example of how to create embedding labels for our image dataset\n",
    "model = ViTForImageClassification.from_pretrained('google/vit-base-patch16-224')\n",
    "model.classifier = nn.Identity()\n",
    "processor = ViTImageProcessor.from_pretrained('google/vit-base-patch16-224')\n",
    "\n",
    "\n",
    "images = [test_image, test_image, test_image]\n",
    "inputs = processor(images=images, return_tensors=\"pt\")\n",
    "embeddings = model(**inputs).logits\n",
    "print(embeddings.shape)"
   ]
  },
  {
   "cell_type": "code",
   "execution_count": null,
   "metadata": {},
   "outputs": [],
   "source": []
  }
 ],
 "metadata": {
  "kernelspec": {
   "display_name": "venv",
   "language": "python",
   "name": "python3"
  },
  "language_info": {
   "codemirror_mode": {
    "name": "ipython",
    "version": 3
   },
   "file_extension": ".py",
   "mimetype": "text/x-python",
   "name": "python",
   "nbconvert_exporter": "python",
   "pygments_lexer": "ipython3",
   "version": "3.9.12"
  }
 },
 "nbformat": 4,
 "nbformat_minor": 2
}
