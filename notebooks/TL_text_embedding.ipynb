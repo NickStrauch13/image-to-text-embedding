{
 "cells": [
  {
   "cell_type": "markdown",
   "metadata": {},
   "source": [
    "### Transfer Learning on A Pre-Trained Text Embedding Transformer"
   ]
  },
  {
   "cell_type": "code",
   "execution_count": 1,
   "metadata": {},
   "outputs": [],
   "source": [
    "from transformers import AutoTokenizer, AutoModel\n",
    "import torch\n",
    "from torch.utils.data import Dataset, DataLoader\n",
    "from torch import Tensor\n",
    "import torch.nn as nn\n",
    "import torch.nn.functional as F\n",
    "from PIL import Image"
   ]
  },
  {
   "cell_type": "code",
   "execution_count": 2,
   "metadata": {},
   "outputs": [],
   "source": [
    "MODEL_NAME = \"thenlper/gte-base\" # This model is fairly small and is #22 on MTEB leaderboard\n",
    "tokenizer = AutoTokenizer.from_pretrained(MODEL_NAME)\n",
    "model = AutoModel.from_pretrained(MODEL_NAME)"
   ]
  },
  {
   "cell_type": "code",
   "execution_count": 3,
   "metadata": {},
   "outputs": [],
   "source": [
    "class CustomTextEmbeddingModel(torch.nn.Module):\n",
    "    def __init__(self, original_model, output_dim):\n",
    "        super(CustomTextEmbeddingModel, self).__init__()\n",
    "        self.original_model = original_model\n",
    "        # 768 is the embedding dims for the original gte-base model. adding another layer on the end to project to the output dim\n",
    "        self.projection = torch.nn.Linear(768, output_dim)\n",
    "\n",
    "    def forward(self, input_ids, attention_mask=None):\n",
    "        # Original model output\n",
    "        outputs = self.original_model(input_ids=input_ids, attention_mask=attention_mask)\n",
    "        pooled_output = self._average_pool(outputs.last_hidden_state, attention_mask)\n",
    "        # Project to new output dim\n",
    "        projected_output = self.projection(pooled_output)\n",
    "        return projected_output\n",
    "    \n",
    "    # This function is from https://huggingface.co/thenlper/gte-base\n",
    "    def _average_pool(self, last_hidden_states: Tensor, attention_mask: Tensor) -> Tensor:\n",
    "        last_hidden = last_hidden_states.masked_fill(~attention_mask[..., None].bool(), 0.0)\n",
    "        return last_hidden.sum(dim=1) / attention_mask.sum(dim=1)[..., None]"
   ]
  },
  {
   "cell_type": "code",
   "execution_count": 4,
   "metadata": {},
   "outputs": [
    {
     "name": "stderr",
     "output_type": "stream",
     "text": [
      "huggingface/tokenizers: The current process just got forked, after parallelism has already been used. Disabling parallelism to avoid deadlocks...\n",
      "To disable this warning, you can either:\n",
      "\t- Avoid using `tokenizers` before the fork if possible\n",
      "\t- Explicitly set the environment variable TOKENIZERS_PARALLELISM=(true | false)\n",
      "  0%|          | 83/30000 [00:10<44:30, 11.20it/s]  "
     ]
    }
   ],
   "source": [
    "import json\n",
    "import os\n",
    "import torch\n",
    "from transformers import AutoTokenizer, AutoModel\n",
    "from tqdm import tqdm  # for progress bars\n",
    "import concurrent.futures\n",
    "\n",
    "MODEL_NAME = \"thenlper/gte-base\"\n",
    "tokenizer = AutoTokenizer.from_pretrained(MODEL_NAME)\n",
    "model = AutoModel.from_pretrained(MODEL_NAME)\n",
    "model.eval()  # Ensure the model is in evaluation mode\n",
    "model.to('cpu')  # Ensure the model is on CPU\n",
    "\n",
    "class CustomTextEmbeddingModel(torch.nn.Module):\n",
    "    def __init__(self, original_model, output_dim=700):\n",
    "        super(CustomTextEmbeddingModel, self).__init__()\n",
    "        self.original_model = original_model\n",
    "        self.projection = torch.nn.Linear(768, output_dim)\n",
    "\n",
    "    def forward(self, input_ids, attention_mask=None):\n",
    "        outputs = self.original_model(input_ids=input_ids, attention_mask=attention_mask)\n",
    "        last_hidden_states = outputs.last_hidden_state\n",
    "        pooled_output = torch.mean(last_hidden_states, dim=1)  # Average pooling\n",
    "        projected_output = self.projection(pooled_output)\n",
    "        return projected_output\n",
    "\n",
    "# Initialize your custom text embedding model\n",
    "test_model = CustomTextEmbeddingModel(model, 700).to('cpu')\n",
    "\n",
    "def process_caption(file_path):\n",
    "    \"\"\"Process the first caption in a single file and return its embedding.\"\"\"\n",
    "    file_name = os.path.basename(file_path)\n",
    "    image_id = file_name.split('_')[0]  # Assuming file format is \"<image_id>_captions.txt\"\n",
    "    with open(file_path, 'r') as file:\n",
    "        first_caption = file.readline().strip()  # Read only the first caption\n",
    "\n",
    "    inputs = tokenizer(first_caption, return_tensors=\"pt\", padding='max_length', truncation=True, max_length=512)\n",
    "\n",
    "    with torch.no_grad():  # Do not compute gradients\n",
    "        embeddings = test_model(inputs.input_ids.to('cpu'), inputs.attention_mask.to('cpu')).detach().numpy()  # Generate embedding\n",
    "\n",
    "    return image_id, embeddings.tolist()\n",
    "\n",
    "def generate_text_embeddings(base_dir):\n",
    "    embeddings = {}\n",
    "    caption_paths = [os.path.join(base_dir, name) for name in os.listdir(base_dir) if name.endswith('.txt')]\n",
    "    \n",
    "    # Use ThreadPoolExecutor to process caption files in parallel\n",
    "    with concurrent.futures.ThreadPoolExecutor() as executor:\n",
    "        # Use tqdm for progress bar with futures\n",
    "        futures = [executor.submit(process_caption, caption_path) for caption_path in caption_paths]\n",
    "        for future in tqdm(concurrent.futures.as_completed(futures), total=len(futures)):\n",
    "            image_id, embedding = future.result()\n",
    "            embeddings[image_id] = embedding\n",
    "\n",
    "    return embeddings\n",
    "\n",
    "# Specify your base directory containing caption files\n",
    "base_dir = \"../data/flickr30k_images/\"  # Adjust this path as necessary\n",
    "\n",
    "# Generate embeddings\n",
    "embeddings = generate_text_embeddings(base_dir)\n",
    "\n",
    "# Save embeddings to a JSON file\n",
    "embeddings_file = \"text_embeddings.json\"\n",
    "with open(embeddings_file, 'w') as f:\n",
    "    json.dump(embeddings, f)\n",
    "\n",
    "print(f\"Embeddings saved to {embeddings_file}.\")\n"
   ]
  },
  {
   "cell_type": "code",
   "execution_count": 9,
   "metadata": {},
   "outputs": [
    {
     "name": "stdout",
     "output_type": "stream",
     "text": [
      "tensor([[-0.2934,  0.1638,  0.3081,  0.6756,  0.0679,  0.6542, -0.0653,  0.1022,\n",
      "         -0.3658, -0.3653],\n",
      "        [-0.1512,  0.1145,  0.2403,  0.6169, -0.0582,  0.5726, -0.0173,  0.0687,\n",
      "         -0.3651, -0.3757]])\n"
     ]
    }
   ],
   "source": [
    "# A test to verify that the model is working. Outputs should just be meaningless tensors of size 10\n",
    "test_model = CustomTextEmbeddingModel(model, 10)\n",
    "\n",
    "# Tokenize test inputs\n",
    "test_inputs = [\"This is test sentence 1\", \"This is test sentence 2\"]\n",
    "batch_dict = tokenizer(test_inputs, max_length=512, padding=True, truncation=True, return_tensors='pt')\n",
    "\n",
    "# Pass the tokenized inputs through your custom model\n",
    "with torch.no_grad():\n",
    "    embeddings = test_model(batch_dict['input_ids'], batch_dict['attention_mask'])\n",
    "\n",
    "#print(batch_dict)\n",
    "print(embeddings)\n"
   ]
  },
  {
   "cell_type": "markdown",
   "metadata": {},
   "source": [
    "#### Freeze Pre-Trained Parameters"
   ]
  },
  {
   "cell_type": "code",
   "execution_count": 5,
   "metadata": {},
   "outputs": [],
   "source": [
    "def freeze_pretrained_weights(model: nn.Module):\n",
    "    '''\n",
    "    Freezes the pretrained weights for an instance of the CustomTextEmbeddingModel class\n",
    "    '''\n",
    "    for param in model.original_model.parameters():\n",
    "        param.requires_grad = False"
   ]
  },
  {
   "cell_type": "markdown",
   "metadata": {},
   "source": [
    "#### Setup a Dataset Class"
   ]
  },
  {
   "cell_type": "code",
   "execution_count": 6,
   "metadata": {},
   "outputs": [],
   "source": [
    "class TextDataset(Dataset):\n",
    "    def __init__(self, texts, labels, tokenizer):\n",
    "        self.texts = texts\n",
    "        self.labels = labels\n",
    "        self.tokenizer = tokenizer\n",
    "    \n",
    "    def __len__(self):\n",
    "        return len(self.texts)\n",
    "    \n",
    "    def __getitem__(self, idx):\n",
    "        encoded_text = self.tokenizer(self.texts[idx], return_tensors='pt', padding='max_length', truncation=True, max_length=512)\n",
    "        label = torch.tensor(self.labels[idx], dtype=torch.long)\n",
    "        return encoded_text, label\n"
   ]
  },
  {
   "cell_type": "code",
   "execution_count": 7,
   "metadata": {},
   "outputs": [],
   "source": [
    "# Example usage of the TextDataset class\n",
    "\n",
    "# Example text, labels, and tokenizer\n",
    "    # Image captions\n",
    "texts = [\"Caption for image 1\", \"Caption for image 2\", \"Caption for image 3\"]\n",
    "    # The labels are the image embeddings from the image embedding model.\n",
    "labels = [Tensor([1,2,3,4,5,6,7,8,9,0]), Tensor([1,2,3,4,5,6,7,8,9,0]), Tensor([1,2,3,4,5,6,7,8,9,0])]\n",
    "    # This is the tokenizer for our base pretrained text embedding model: gte-base\n",
    "tokenizer = AutoTokenizer.from_pretrained(MODEL_NAME)\n",
    "\n",
    "\n",
    "dataset = TextDataset(texts, labels, tokenizer)\n",
    "dataloader = DataLoader(dataset, batch_size=2, shuffle=True)"
   ]
  },
  {
   "cell_type": "markdown",
   "metadata": {},
   "source": [
    "## Extracting Embeddings from Pre-Trained ViT"
   ]
  },
  {
   "cell_type": "code",
   "execution_count": 9,
   "metadata": {},
   "outputs": [],
   "source": [
    "# Possible models\n",
    "# oschamp/vit-artworkclassifier        probably not this one... its finetuning seems to be somewhat poor\n",
    "# google/vit-base-patch16-224"
   ]
  },
  {
   "cell_type": "code",
   "execution_count": 22,
   "metadata": {},
   "outputs": [
    {
     "name": "stdout",
     "output_type": "stream",
     "text": [
      "Predicted class: book jacket, dust cover, dust jacket, dust wrapper\n"
     ]
    }
   ],
   "source": [
    "# Load the google ViT model\n",
    "from transformers import ViTImageProcessor, ViTForImageClassification\n",
    "\n",
    "processor = ViTImageProcessor.from_pretrained('google/vit-base-patch16-224')\n",
    "model = ViTForImageClassification.from_pretrained('google/vit-base-patch16-224')\n",
    "\n",
    "test_image = Image.open(\"../data/test_art.jpg\")\n",
    "\n",
    "inputs = processor(images=test_image, return_tensors=\"pt\")\n",
    "outputs = model(**inputs)\n",
    "logits = outputs.logits\n",
    "# model predicts one of the 1000 ImageNet classes\n",
    "predicted_class_idx = logits.argmax(-1).item()\n",
    "print(\"Predicted class:\", model.config.id2label[predicted_class_idx])"
   ]
  },
  {
   "cell_type": "code",
   "execution_count": 25,
   "metadata": {},
   "outputs": [
    {
     "name": "stdout",
     "output_type": "stream",
     "text": [
      "torch.Size([3, 768])\n"
     ]
    }
   ],
   "source": [
    "# Extract the embeddings from the model by removing the final classification layer\n",
    "model.classifier = nn.Identity()\n",
    "\n",
    "embedding = model(**inputs).logits\n",
    "\n",
    "print(embedding.shape)"
   ]
  },
  {
   "cell_type": "code",
   "execution_count": 26,
   "metadata": {},
   "outputs": [
    {
     "name": "stdout",
     "output_type": "stream",
     "text": [
      "torch.Size([3, 768])\n"
     ]
    }
   ],
   "source": [
    "# Example of how to create embedding labels for our image dataset\n",
    "model = ViTForImageClassification.from_pretrained('google/vit-base-patch16-224')\n",
    "model.classifier = nn.Identity()\n",
    "processor = ViTImageProcessor.from_pretrained('google/vit-base-patch16-224')\n",
    "\n",
    "\n",
    "images = [test_image, test_image, test_image]\n",
    "inputs = processor(images=images, return_tensors=\"pt\")\n",
    "embeddings = model(**inputs).logits\n",
    "print(embeddings.shape)"
   ]
  },
  {
   "cell_type": "code",
   "execution_count": null,
   "metadata": {},
   "outputs": [],
   "source": []
  }
 ],
 "metadata": {
  "kernelspec": {
   "display_name": "venv",
   "language": "python",
   "name": "python3"
  },
  "language_info": {
   "codemirror_mode": {
    "name": "ipython",
    "version": 3
   },
   "file_extension": ".py",
   "mimetype": "text/x-python",
   "name": "python",
   "nbconvert_exporter": "python",
   "pygments_lexer": "ipython3",
   "version": "3.9.6"
  }
 },
 "nbformat": 4,
 "nbformat_minor": 2
}
